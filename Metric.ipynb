import pandas as pd
import numpy as np
import glob
import os
import webbrowser
import os

path = r'C:/Desktop/Query/bm25' # use your path
all_files = glob.glob(path + "/*.csv") #
amount_of_proposals = 2  # количество статей, которые мы будем рассаматривать 
frame  = pd.DataFrame()
for filename in all_files:
    df = pd.read_csv(filename,header=None)
    if df.shape[0] < amount_of_proposals:
        zero_df = pd.DataFrame(np.zeros((amount_of_proposals-df.shape[0], 1)))
        df = pd.concat([df[0],zero_df], axis=0, ignore_index=True)
    elif df.shape[0] > amount_of_proposals:
        df = df[0][:amount_of_proposals]
    frame = pd.concat([frame,df], axis=1, ignore_index=True)
for query_number in range(amount_of_querys):
    print('Осталось {} запроса'.format(amount_of_querys - query_number))
    query = all_files[query_number].replace('.csv','').replace('C:/Desktop/Query/bm25\\','')
    for proposal_number in range(amount_of_proposals):
        os.system('cls')
        exit = ''
        print('{} , {} предложение'.format(query,proposal_number + 1))
        #print('Открываю {} предложение'.format(n+1))
        URL = 'https://en.wikipedia.org/wiki?curid=' + '{}'.format(int(frame[query_number][proposal_number]))
        webbrowser.open(URL)
        print('Статья релевантна? [yes/no]')
        while exit != 'exit':
            choice = input()
            if choice == 'yes':
                relevance[query_number][proposal_number] = 1
                print('Статья релевантна')
                exit = 'exit'
            elif choice == 'no':
                relevance[query_number][proposal_number] = 0
                print('Статья нерелевантна') 
                exit = 'exit'
            elif choice == 'break':
                break
            else:
                print("That is not a valid input")

save_path = 'C:/Desktop/Query/bm25/output.xlsx'
relevance.to_excel(save_path)

Av_all = 0
for number_of_query in range(amount_of_querys):
    Av = 0
    m = np.sum(relevance[number_of_query][:amount_of_proposals])
    if m == 0:
        Av = 0
    else:
        for k in range(amount_of_proposals):
            P = np.sum(relevance[number_of_query][:k+1])/(k+1)
            Av += 1/m*P*relevance[number_of_query][k]
    Av_all += Av
MAP = 1/len(all_files)*Av_all
print(MAP)
