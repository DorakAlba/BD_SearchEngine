{
 "cells": [
  {
   "cell_type": "code",
   "execution_count": 6,
   "metadata": {},
   "outputs": [],
   "source": [
    "import pandas as pd\n",
    "import numpy as np\n",
    "import glob\n",
    "import os\n",
    "import webbrowser\n",
    "import os"
   ]
  },
  {
   "cell_type": "code",
   "execution_count": 7,
   "metadata": {},
   "outputs": [],
   "source": [
    "path = r'C:\\Desktop\\Query' # use your path\n",
    "all_files = glob.glob(path + \"/*.csv\")\n",
    "amount_of_proposals = 2  # количество статей, которые мы будем рассаматривать \n",
    "frame  = pd.DataFrame()\n",
    "for filename in all_files:\n",
    "    df = pd.read_csv(filename, header=None)\n",
    "    if df.shape[0] < amount_of_proposals:\n",
    "        zero_df = pd.DataFrame(np.zeros((amount_of_proposals-df.shape[0], 1)))\n",
    "        df = pd.concat([df[0],zero_df], axis=0, ignore_index=True)\n",
    "    elif df.shape[0] > amount_of_proposals:\n",
    "        df = df[0][:amount_of_proposals]\n",
    "    frame = pd.concat([frame,df], axis=1, ignore_index=True)"
   ]
  },
  {
   "cell_type": "code",
   "execution_count": 8,
   "metadata": {},
   "outputs": [
    {
     "name": "stdout",
     "output_type": "stream",
     "text": [
      "Осталось 2 запроса\n",
      "1 запрос, 1 предложение\n",
      "Статья релевантна? [yes/no]\n",
      "yes\n",
      "Статья релевантна\n",
      "1 запрос, 2 предложение\n",
      "Статья релевантна? [yes/no]\n",
      "break\n",
      "Осталось 1 запроса\n",
      "2 запрос, 1 предложение\n",
      "Статья релевантна? [yes/no]\n",
      "yes\n",
      "Статья релевантна\n",
      "2 запрос, 2 предложение\n",
      "Статья релевантна? [yes/no]\n",
      "yes\n",
      "Статья релевантна\n"
     ]
    }
   ],
   "source": [
    "amount_of_querys = len(all_files)\n",
    "relevance = pd.DataFrame(np.zeros((amount_of_proposals, amount_of_querys)))\n",
    "for query_number in range(amount_of_querys):\n",
    "    print('Осталось {} запроса'.format(amount_of_querys - query_number))\n",
    "    for proposal_number in range(amount_of_proposals):\n",
    "        os.system('cls')\n",
    "        exit = ''\n",
    "        print('{} запрос, {} предложение'.format(query_number + 1,proposal_number + 1))\n",
    "        #print('Открываю {} предложение'.format(n+1))\n",
    "        URL = 'https://en.wikipedia.org/wiki?curid=' + '{}'.format(int(frame[query_number][proposal_number]))\n",
    "        webbrowser.open(URL)\n",
    "        print('Статья релевантна? [yes/no]')\n",
    "        while exit != 'exit':\n",
    "            choice = input()\n",
    "            if choice == 'yes':\n",
    "                relevance[query_number][proposal_number] = 1\n",
    "                print('Статья релевантна')\n",
    "                exit = 'exit'\n",
    "            elif choice == 'no':\n",
    "                relevance[query_number][proposal_number] = 0\n",
    "                print('Статья нерелевантна') \n",
    "                exit = 'exit'\n",
    "            elif choice == 'break':\n",
    "                break\n",
    "            else:\n",
    "                print(\"That is not a valid input\")"
   ]
  },
  {
   "cell_type": "code",
   "execution_count": 9,
   "metadata": {},
   "outputs": [],
   "source": [
    "### \n",
    "save_path = 'C:\\Desktop\\Query\\output.xlsx'\n",
    "relevance.to_excel(save_path)"
   ]
  },
  {
   "cell_type": "code",
   "execution_count": 10,
   "metadata": {},
   "outputs": [
    {
     "name": "stdout",
     "output_type": "stream",
     "text": [
      "0.5\n"
     ]
    }
   ],
   "source": [
    "### MAP\n",
    "Av_all = pd.DataFrame()\n",
    "for number_of_query in range(amount_of_querys):\n",
    "    P = pd.DataFrame()\n",
    "    Av = 0\n",
    "    m = np.sum(relevance[number_of_query][:amount_of_proposals])\n",
    "    if m == 0:\n",
    "        Av = 0\n",
    "    else:\n",
    "        for k in range(amount_of_proposals):\n",
    "            P[k] = np.sum(relevance[number_of_query][:k+1])/(k+1)\n",
    "            Av += 1/m*P[k]*relevance[number_of_query][k]\n",
    "    Av_all[number_of_query] = Av\n",
    "MAP = 1/len(all_files)*sum(Av_all)\n",
    "print(MAP)"
   ]
  },
  {
   "cell_type": "code",
   "execution_count": null,
   "metadata": {},
   "outputs": [],
   "source": []
  }
 ],
 "metadata": {
  "kernelspec": {
   "display_name": "Python 3",
   "language": "python",
   "name": "python3"
  },
  "language_info": {
   "codemirror_mode": {
    "name": "ipython",
    "version": 3
   },
   "file_extension": ".py",
   "mimetype": "text/x-python",
   "name": "python",
   "nbconvert_exporter": "python",
   "pygments_lexer": "ipython3",
   "version": "3.7.1"
  }
 },
 "nbformat": 4,
 "nbformat_minor": 2
}
